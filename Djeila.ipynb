{
 "cells": [
  {
   "cell_type": "markdown",
   "metadata": {},
   "source": [
    "Nous avons utilisés trois libraries :\n",
    "    1- pandas pour visualiser et analysé des données.\n",
    "    2- matplotlib.pyplot pour les graphes(visualisation)\n",
    "    3- seaborn pour la visualisation"
   ]
  },
  {
   "cell_type": "code",
   "execution_count": 38,
   "metadata": {},
   "outputs": [],
   "source": [
    "import pandas as pd\n",
    "import matplotlib.pyplot as plt\n",
    "import seaborn as sns"
   ]
  },
  {
   "cell_type": "markdown",
   "metadata": {},
   "source": [
    "# Définir le schemin d'accès et lire le data set"
   ]
  },
  {
   "cell_type": "code",
   "execution_count": 39,
   "metadata": {},
   "outputs": [],
   "source": [
    "\n",
    "dataframe = pd.read_csv('C:\\\\Users\\\\ADMIN\\\\Projets\\\\IHMStefanini_industrial_safety_and_health_database_with_accidents_description.csv')"
   ]
  },
  {
   "cell_type": "markdown",
   "metadata": {},
   "source": [
    "Nous avons affichés les 20 première ligne de data set."
   ]
  },
  {
   "cell_type": "code",
   "execution_count": 40,
   "metadata": {},
   "outputs": [
    {
     "data": {
      "text/html": [
       "<div>\n",
       "<style scoped>\n",
       "    .dataframe tbody tr th:only-of-type {\n",
       "        vertical-align: middle;\n",
       "    }\n",
       "\n",
       "    .dataframe tbody tr th {\n",
       "        vertical-align: top;\n",
       "    }\n",
       "\n",
       "    .dataframe thead th {\n",
       "        text-align: right;\n",
       "    }\n",
       "</style>\n",
       "<table border=\"1\" class=\"dataframe\">\n",
       "  <thead>\n",
       "    <tr style=\"text-align: right;\">\n",
       "      <th></th>\n",
       "      <th>Unnamed: 0</th>\n",
       "      <th>Data</th>\n",
       "      <th>Countries</th>\n",
       "      <th>Local</th>\n",
       "      <th>Industry Sector</th>\n",
       "      <th>Accident Level</th>\n",
       "      <th>Potential Accident Level</th>\n",
       "      <th>Genre</th>\n",
       "      <th>Employee or Third Party</th>\n",
       "      <th>Critical Risk</th>\n",
       "      <th>Description</th>\n",
       "    </tr>\n",
       "  </thead>\n",
       "  <tbody>\n",
       "    <tr>\n",
       "      <th>0</th>\n",
       "      <td>0</td>\n",
       "      <td>2016-01-01 00:00:00</td>\n",
       "      <td>Country_01</td>\n",
       "      <td>Local_01</td>\n",
       "      <td>Mining</td>\n",
       "      <td>I</td>\n",
       "      <td>IV</td>\n",
       "      <td>Male</td>\n",
       "      <td>Third Party</td>\n",
       "      <td>Pressed</td>\n",
       "      <td>While removing the drill rod of the Jumbo 08 f...</td>\n",
       "    </tr>\n",
       "    <tr>\n",
       "      <th>1</th>\n",
       "      <td>1</td>\n",
       "      <td>2016-01-02 00:00:00</td>\n",
       "      <td>Country_02</td>\n",
       "      <td>Local_02</td>\n",
       "      <td>Mining</td>\n",
       "      <td>I</td>\n",
       "      <td>IV</td>\n",
       "      <td>Male</td>\n",
       "      <td>Employee</td>\n",
       "      <td>Pressurized Systems</td>\n",
       "      <td>During the activation of a sodium sulphide pum...</td>\n",
       "    </tr>\n",
       "    <tr>\n",
       "      <th>2</th>\n",
       "      <td>2</td>\n",
       "      <td>2016-01-06 00:00:00</td>\n",
       "      <td>Country_01</td>\n",
       "      <td>Local_03</td>\n",
       "      <td>Mining</td>\n",
       "      <td>I</td>\n",
       "      <td>III</td>\n",
       "      <td>Male</td>\n",
       "      <td>Third Party (Remote)</td>\n",
       "      <td>Manual Tools</td>\n",
       "      <td>In the sub-station MILPO located at level +170...</td>\n",
       "    </tr>\n",
       "    <tr>\n",
       "      <th>3</th>\n",
       "      <td>3</td>\n",
       "      <td>2016-01-08 00:00:00</td>\n",
       "      <td>Country_01</td>\n",
       "      <td>Local_04</td>\n",
       "      <td>Mining</td>\n",
       "      <td>I</td>\n",
       "      <td>I</td>\n",
       "      <td>Male</td>\n",
       "      <td>Third Party</td>\n",
       "      <td>Others</td>\n",
       "      <td>Being 9:45 am. approximately in the Nv. 1880 C...</td>\n",
       "    </tr>\n",
       "    <tr>\n",
       "      <th>4</th>\n",
       "      <td>4</td>\n",
       "      <td>2016-01-10 00:00:00</td>\n",
       "      <td>Country_01</td>\n",
       "      <td>Local_04</td>\n",
       "      <td>Mining</td>\n",
       "      <td>IV</td>\n",
       "      <td>IV</td>\n",
       "      <td>Male</td>\n",
       "      <td>Third Party</td>\n",
       "      <td>Others</td>\n",
       "      <td>Approximately at 11:45 a.m. in circumstances t...</td>\n",
       "    </tr>\n",
       "    <tr>\n",
       "      <th>5</th>\n",
       "      <td>5</td>\n",
       "      <td>2016-01-12 00:00:00</td>\n",
       "      <td>Country_02</td>\n",
       "      <td>Local_05</td>\n",
       "      <td>Metals</td>\n",
       "      <td>I</td>\n",
       "      <td>III</td>\n",
       "      <td>Male</td>\n",
       "      <td>Third Party (Remote)</td>\n",
       "      <td>Pressurized Systems</td>\n",
       "      <td>During the unloading operation of the ustulado...</td>\n",
       "    </tr>\n",
       "    <tr>\n",
       "      <th>6</th>\n",
       "      <td>6</td>\n",
       "      <td>2016-01-16 00:00:00</td>\n",
       "      <td>Country_02</td>\n",
       "      <td>Local_05</td>\n",
       "      <td>Metals</td>\n",
       "      <td>I</td>\n",
       "      <td>III</td>\n",
       "      <td>Male</td>\n",
       "      <td>Employee</td>\n",
       "      <td>Fall prevention (same level)</td>\n",
       "      <td>The collaborator reports that he was on street...</td>\n",
       "    </tr>\n",
       "    <tr>\n",
       "      <th>7</th>\n",
       "      <td>7</td>\n",
       "      <td>2016-01-17 00:00:00</td>\n",
       "      <td>Country_01</td>\n",
       "      <td>Local_04</td>\n",
       "      <td>Mining</td>\n",
       "      <td>I</td>\n",
       "      <td>III</td>\n",
       "      <td>Male</td>\n",
       "      <td>Third Party</td>\n",
       "      <td>Pressed</td>\n",
       "      <td>At approximately 04:50 p.m., when the mechanic...</td>\n",
       "    </tr>\n",
       "    <tr>\n",
       "      <th>8</th>\n",
       "      <td>8</td>\n",
       "      <td>2016-01-19 00:00:00</td>\n",
       "      <td>Country_02</td>\n",
       "      <td>Local_02</td>\n",
       "      <td>Mining</td>\n",
       "      <td>I</td>\n",
       "      <td>IV</td>\n",
       "      <td>Male</td>\n",
       "      <td>Third Party (Remote)</td>\n",
       "      <td>Others</td>\n",
       "      <td>Employee was sitting in the resting area at le...</td>\n",
       "    </tr>\n",
       "    <tr>\n",
       "      <th>9</th>\n",
       "      <td>9</td>\n",
       "      <td>2016-01-26 00:00:00</td>\n",
       "      <td>Country_01</td>\n",
       "      <td>Local_06</td>\n",
       "      <td>Metals</td>\n",
       "      <td>I</td>\n",
       "      <td>II</td>\n",
       "      <td>Male</td>\n",
       "      <td>Third Party</td>\n",
       "      <td>Chemical substances</td>\n",
       "      <td>At the moment the forklift operator went to ma...</td>\n",
       "    </tr>\n",
       "    <tr>\n",
       "      <th>10</th>\n",
       "      <td>10</td>\n",
       "      <td>2016-01-28 00:00:00</td>\n",
       "      <td>Country_01</td>\n",
       "      <td>Local_03</td>\n",
       "      <td>Mining</td>\n",
       "      <td>I</td>\n",
       "      <td>III</td>\n",
       "      <td>Male</td>\n",
       "      <td>Employee</td>\n",
       "      <td>Others</td>\n",
       "      <td>While installing a segment of the polyurethane...</td>\n",
       "    </tr>\n",
       "    <tr>\n",
       "      <th>11</th>\n",
       "      <td>11</td>\n",
       "      <td>2016-01-30 00:00:00</td>\n",
       "      <td>Country_01</td>\n",
       "      <td>Local_03</td>\n",
       "      <td>Mining</td>\n",
       "      <td>I</td>\n",
       "      <td>IV</td>\n",
       "      <td>Male</td>\n",
       "      <td>Third Party</td>\n",
       "      <td>Others</td>\n",
       "      <td>While preparing the rice for the lunch of the ...</td>\n",
       "    </tr>\n",
       "    <tr>\n",
       "      <th>12</th>\n",
       "      <td>12</td>\n",
       "      <td>2016-02-01 00:00:00</td>\n",
       "      <td>Country_02</td>\n",
       "      <td>Local_05</td>\n",
       "      <td>Metals</td>\n",
       "      <td>I</td>\n",
       "      <td>I</td>\n",
       "      <td>Male</td>\n",
       "      <td>Employee</td>\n",
       "      <td>Liquid Metal</td>\n",
       "      <td>The collaborator reports that he was working i...</td>\n",
       "    </tr>\n",
       "    <tr>\n",
       "      <th>13</th>\n",
       "      <td>13</td>\n",
       "      <td>2016-02-02 00:00:00</td>\n",
       "      <td>Country_01</td>\n",
       "      <td>Local_01</td>\n",
       "      <td>Mining</td>\n",
       "      <td>IV</td>\n",
       "      <td>V</td>\n",
       "      <td>Male</td>\n",
       "      <td>Third Party</td>\n",
       "      <td>Electrical installation</td>\n",
       "      <td>In moments that the operator of the Jumbo 2, t...</td>\n",
       "    </tr>\n",
       "    <tr>\n",
       "      <th>14</th>\n",
       "      <td>14</td>\n",
       "      <td>2016-02-04 00:00:00</td>\n",
       "      <td>Country_02</td>\n",
       "      <td>Local_05</td>\n",
       "      <td>Metals</td>\n",
       "      <td>I</td>\n",
       "      <td>III</td>\n",
       "      <td>Male</td>\n",
       "      <td>Employee</td>\n",
       "      <td>Confined space</td>\n",
       "      <td>Due to the accumulation of Waelz on the convey...</td>\n",
       "    </tr>\n",
       "    <tr>\n",
       "      <th>15</th>\n",
       "      <td>15</td>\n",
       "      <td>2016-02-04 00:00:00</td>\n",
       "      <td>Country_02</td>\n",
       "      <td>Local_05</td>\n",
       "      <td>Metals</td>\n",
       "      <td>I</td>\n",
       "      <td>IV</td>\n",
       "      <td>Male</td>\n",
       "      <td>Employee</td>\n",
       "      <td>Liquid Metal</td>\n",
       "      <td>The employee was working in the When a thermal...</td>\n",
       "    </tr>\n",
       "    <tr>\n",
       "      <th>16</th>\n",
       "      <td>16</td>\n",
       "      <td>2016-02-06 00:00:00</td>\n",
       "      <td>Country_01</td>\n",
       "      <td>Local_04</td>\n",
       "      <td>Mining</td>\n",
       "      <td>III</td>\n",
       "      <td>IV</td>\n",
       "      <td>Male</td>\n",
       "      <td>Third Party</td>\n",
       "      <td>Others</td>\n",
       "      <td>At Rp 050 of level 1620, in circumstances wher...</td>\n",
       "    </tr>\n",
       "    <tr>\n",
       "      <th>17</th>\n",
       "      <td>17</td>\n",
       "      <td>2016-02-07 00:00:00</td>\n",
       "      <td>Country_01</td>\n",
       "      <td>Local_06</td>\n",
       "      <td>Metals</td>\n",
       "      <td>I</td>\n",
       "      <td>II</td>\n",
       "      <td>Female</td>\n",
       "      <td>Third Party</td>\n",
       "      <td>Others</td>\n",
       "      <td>Due to the overheating of 2 bars in row 5 of c...</td>\n",
       "    </tr>\n",
       "    <tr>\n",
       "      <th>18</th>\n",
       "      <td>18</td>\n",
       "      <td>2016-02-08 00:00:00</td>\n",
       "      <td>Country_01</td>\n",
       "      <td>Local_06</td>\n",
       "      <td>Metals</td>\n",
       "      <td>I</td>\n",
       "      <td>II</td>\n",
       "      <td>Male</td>\n",
       "      <td>Employee</td>\n",
       "      <td>Others</td>\n",
       "      <td>An auxiliary wheel of the cathode crane G2133 ...</td>\n",
       "    </tr>\n",
       "    <tr>\n",
       "      <th>19</th>\n",
       "      <td>19</td>\n",
       "      <td>2016-02-21 00:00:00</td>\n",
       "      <td>Country_01</td>\n",
       "      <td>Local_06</td>\n",
       "      <td>Metals</td>\n",
       "      <td>I</td>\n",
       "      <td>III</td>\n",
       "      <td>Male</td>\n",
       "      <td>Employee</td>\n",
       "      <td>Others</td>\n",
       "      <td>The worker Manuel was making the disconnection...</td>\n",
       "    </tr>\n",
       "  </tbody>\n",
       "</table>\n",
       "</div>"
      ],
      "text/plain": [
       "    Unnamed: 0                 Data   Countries     Local Industry Sector  \\\n",
       "0            0  2016-01-01 00:00:00  Country_01  Local_01          Mining   \n",
       "1            1  2016-01-02 00:00:00  Country_02  Local_02          Mining   \n",
       "2            2  2016-01-06 00:00:00  Country_01  Local_03          Mining   \n",
       "3            3  2016-01-08 00:00:00  Country_01  Local_04          Mining   \n",
       "4            4  2016-01-10 00:00:00  Country_01  Local_04          Mining   \n",
       "5            5  2016-01-12 00:00:00  Country_02  Local_05          Metals   \n",
       "6            6  2016-01-16 00:00:00  Country_02  Local_05          Metals   \n",
       "7            7  2016-01-17 00:00:00  Country_01  Local_04          Mining   \n",
       "8            8  2016-01-19 00:00:00  Country_02  Local_02          Mining   \n",
       "9            9  2016-01-26 00:00:00  Country_01  Local_06          Metals   \n",
       "10          10  2016-01-28 00:00:00  Country_01  Local_03          Mining   \n",
       "11          11  2016-01-30 00:00:00  Country_01  Local_03          Mining   \n",
       "12          12  2016-02-01 00:00:00  Country_02  Local_05          Metals   \n",
       "13          13  2016-02-02 00:00:00  Country_01  Local_01          Mining   \n",
       "14          14  2016-02-04 00:00:00  Country_02  Local_05          Metals   \n",
       "15          15  2016-02-04 00:00:00  Country_02  Local_05          Metals   \n",
       "16          16  2016-02-06 00:00:00  Country_01  Local_04          Mining   \n",
       "17          17  2016-02-07 00:00:00  Country_01  Local_06          Metals   \n",
       "18          18  2016-02-08 00:00:00  Country_01  Local_06          Metals   \n",
       "19          19  2016-02-21 00:00:00  Country_01  Local_06          Metals   \n",
       "\n",
       "   Accident Level Potential Accident Level   Genre Employee or Third Party  \\\n",
       "0               I                       IV    Male             Third Party   \n",
       "1               I                       IV    Male                Employee   \n",
       "2               I                      III    Male    Third Party (Remote)   \n",
       "3               I                        I    Male             Third Party   \n",
       "4              IV                       IV    Male             Third Party   \n",
       "5               I                      III    Male    Third Party (Remote)   \n",
       "6               I                      III    Male                Employee   \n",
       "7               I                      III    Male             Third Party   \n",
       "8               I                       IV    Male    Third Party (Remote)   \n",
       "9               I                       II    Male             Third Party   \n",
       "10              I                      III    Male                Employee   \n",
       "11              I                       IV    Male             Third Party   \n",
       "12              I                        I    Male                Employee   \n",
       "13             IV                        V    Male             Third Party   \n",
       "14              I                      III    Male                Employee   \n",
       "15              I                       IV    Male                Employee   \n",
       "16            III                       IV    Male             Third Party   \n",
       "17              I                       II  Female             Third Party   \n",
       "18              I                       II    Male                Employee   \n",
       "19              I                      III    Male                Employee   \n",
       "\n",
       "                   Critical Risk  \\\n",
       "0                        Pressed   \n",
       "1            Pressurized Systems   \n",
       "2                   Manual Tools   \n",
       "3                         Others   \n",
       "4                         Others   \n",
       "5            Pressurized Systems   \n",
       "6   Fall prevention (same level)   \n",
       "7                        Pressed   \n",
       "8                         Others   \n",
       "9            Chemical substances   \n",
       "10                        Others   \n",
       "11                        Others   \n",
       "12                  Liquid Metal   \n",
       "13       Electrical installation   \n",
       "14                Confined space   \n",
       "15                  Liquid Metal   \n",
       "16                        Others   \n",
       "17                        Others   \n",
       "18                        Others   \n",
       "19                        Others   \n",
       "\n",
       "                                          Description  \n",
       "0   While removing the drill rod of the Jumbo 08 f...  \n",
       "1   During the activation of a sodium sulphide pum...  \n",
       "2   In the sub-station MILPO located at level +170...  \n",
       "3   Being 9:45 am. approximately in the Nv. 1880 C...  \n",
       "4   Approximately at 11:45 a.m. in circumstances t...  \n",
       "5   During the unloading operation of the ustulado...  \n",
       "6   The collaborator reports that he was on street...  \n",
       "7   At approximately 04:50 p.m., when the mechanic...  \n",
       "8   Employee was sitting in the resting area at le...  \n",
       "9   At the moment the forklift operator went to ma...  \n",
       "10  While installing a segment of the polyurethane...  \n",
       "11  While preparing the rice for the lunch of the ...  \n",
       "12  The collaborator reports that he was working i...  \n",
       "13  In moments that the operator of the Jumbo 2, t...  \n",
       "14  Due to the accumulation of Waelz on the convey...  \n",
       "15  The employee was working in the When a thermal...  \n",
       "16  At Rp 050 of level 1620, in circumstances wher...  \n",
       "17  Due to the overheating of 2 bars in row 5 of c...  \n",
       "18  An auxiliary wheel of the cathode crane G2133 ...  \n",
       "19  The worker Manuel was making the disconnection...  "
      ]
     },
     "execution_count": 40,
     "metadata": {},
     "output_type": "execute_result"
    }
   ],
   "source": [
    "dataframe.head(20)"
   ]
  },
  {
   "cell_type": "markdown",
   "metadata": {},
   "source": [
    "Nous considerons la colonne #Unnamed est unitile alors il faut le supprimer et visualisions le data set a nouveau."
   ]
  },
  {
   "cell_type": "code",
   "execution_count": 41,
   "metadata": {},
   "outputs": [],
   "source": [
    "\n",
    "dataframe = dataframe.drop(['Unnamed: 0'], axis=1)"
   ]
  },
  {
   "cell_type": "code",
   "execution_count": 42,
   "metadata": {},
   "outputs": [
    {
     "data": {
      "text/html": [
       "<div>\n",
       "<style scoped>\n",
       "    .dataframe tbody tr th:only-of-type {\n",
       "        vertical-align: middle;\n",
       "    }\n",
       "\n",
       "    .dataframe tbody tr th {\n",
       "        vertical-align: top;\n",
       "    }\n",
       "\n",
       "    .dataframe thead th {\n",
       "        text-align: right;\n",
       "    }\n",
       "</style>\n",
       "<table border=\"1\" class=\"dataframe\">\n",
       "  <thead>\n",
       "    <tr style=\"text-align: right;\">\n",
       "      <th></th>\n",
       "      <th>Data</th>\n",
       "      <th>Countries</th>\n",
       "      <th>Local</th>\n",
       "      <th>Industry Sector</th>\n",
       "      <th>Accident Level</th>\n",
       "      <th>Potential Accident Level</th>\n",
       "      <th>Genre</th>\n",
       "      <th>Employee or Third Party</th>\n",
       "      <th>Critical Risk</th>\n",
       "      <th>Description</th>\n",
       "    </tr>\n",
       "  </thead>\n",
       "  <tbody>\n",
       "    <tr>\n",
       "      <th>0</th>\n",
       "      <td>2016-01-01 00:00:00</td>\n",
       "      <td>Country_01</td>\n",
       "      <td>Local_01</td>\n",
       "      <td>Mining</td>\n",
       "      <td>I</td>\n",
       "      <td>IV</td>\n",
       "      <td>Male</td>\n",
       "      <td>Third Party</td>\n",
       "      <td>Pressed</td>\n",
       "      <td>While removing the drill rod of the Jumbo 08 f...</td>\n",
       "    </tr>\n",
       "    <tr>\n",
       "      <th>1</th>\n",
       "      <td>2016-01-02 00:00:00</td>\n",
       "      <td>Country_02</td>\n",
       "      <td>Local_02</td>\n",
       "      <td>Mining</td>\n",
       "      <td>I</td>\n",
       "      <td>IV</td>\n",
       "      <td>Male</td>\n",
       "      <td>Employee</td>\n",
       "      <td>Pressurized Systems</td>\n",
       "      <td>During the activation of a sodium sulphide pum...</td>\n",
       "    </tr>\n",
       "    <tr>\n",
       "      <th>2</th>\n",
       "      <td>2016-01-06 00:00:00</td>\n",
       "      <td>Country_01</td>\n",
       "      <td>Local_03</td>\n",
       "      <td>Mining</td>\n",
       "      <td>I</td>\n",
       "      <td>III</td>\n",
       "      <td>Male</td>\n",
       "      <td>Third Party (Remote)</td>\n",
       "      <td>Manual Tools</td>\n",
       "      <td>In the sub-station MILPO located at level +170...</td>\n",
       "    </tr>\n",
       "    <tr>\n",
       "      <th>3</th>\n",
       "      <td>2016-01-08 00:00:00</td>\n",
       "      <td>Country_01</td>\n",
       "      <td>Local_04</td>\n",
       "      <td>Mining</td>\n",
       "      <td>I</td>\n",
       "      <td>I</td>\n",
       "      <td>Male</td>\n",
       "      <td>Third Party</td>\n",
       "      <td>Others</td>\n",
       "      <td>Being 9:45 am. approximately in the Nv. 1880 C...</td>\n",
       "    </tr>\n",
       "    <tr>\n",
       "      <th>4</th>\n",
       "      <td>2016-01-10 00:00:00</td>\n",
       "      <td>Country_01</td>\n",
       "      <td>Local_04</td>\n",
       "      <td>Mining</td>\n",
       "      <td>IV</td>\n",
       "      <td>IV</td>\n",
       "      <td>Male</td>\n",
       "      <td>Third Party</td>\n",
       "      <td>Others</td>\n",
       "      <td>Approximately at 11:45 a.m. in circumstances t...</td>\n",
       "    </tr>\n",
       "  </tbody>\n",
       "</table>\n",
       "</div>"
      ],
      "text/plain": [
       "                  Data   Countries     Local Industry Sector Accident Level  \\\n",
       "0  2016-01-01 00:00:00  Country_01  Local_01          Mining              I   \n",
       "1  2016-01-02 00:00:00  Country_02  Local_02          Mining              I   \n",
       "2  2016-01-06 00:00:00  Country_01  Local_03          Mining              I   \n",
       "3  2016-01-08 00:00:00  Country_01  Local_04          Mining              I   \n",
       "4  2016-01-10 00:00:00  Country_01  Local_04          Mining             IV   \n",
       "\n",
       "  Potential Accident Level Genre Employee or Third Party        Critical Risk  \\\n",
       "0                       IV  Male             Third Party              Pressed   \n",
       "1                       IV  Male                Employee  Pressurized Systems   \n",
       "2                      III  Male    Third Party (Remote)         Manual Tools   \n",
       "3                        I  Male             Third Party               Others   \n",
       "4                       IV  Male             Third Party               Others   \n",
       "\n",
       "                                         Description  \n",
       "0  While removing the drill rod of the Jumbo 08 f...  \n",
       "1  During the activation of a sodium sulphide pum...  \n",
       "2  In the sub-station MILPO located at level +170...  \n",
       "3  Being 9:45 am. approximately in the Nv. 1880 C...  \n",
       "4  Approximately at 11:45 a.m. in circumstances t...  "
      ]
     },
     "execution_count": 42,
     "metadata": {},
     "output_type": "execute_result"
    }
   ],
   "source": [
    "dataframe.head()"
   ]
  },
  {
   "cell_type": "markdown",
   "metadata": {},
   "source": [
    "Nous verifiés la taille du data set, nous avons 425 lignes et 10 colonnes"
   ]
  },
  {
   "cell_type": "code",
   "execution_count": 43,
   "metadata": {},
   "outputs": [
    {
     "data": {
      "text/plain": [
       "(425, 10)"
      ]
     },
     "execution_count": 43,
     "metadata": {},
     "output_type": "execute_result"
    }
   ],
   "source": [
    "dataframe.shape"
   ]
  },
  {
   "cell_type": "markdown",
   "metadata": {},
   "source": [
    "Description de toutes les  données dans le data set."
   ]
  },
  {
   "cell_type": "code",
   "execution_count": 44,
   "metadata": {},
   "outputs": [
    {
     "name": "stdout",
     "output_type": "stream",
     "text": [
      "                       Data   Countries     Local Industry Sector  \\\n",
      "count                   425         425       425             425   \n",
      "unique                  287           3        12               3   \n",
      "top     2017-02-08 00:00:00  Country_01  Local_03          Mining   \n",
      "freq                      6         251        90             241   \n",
      "\n",
      "       Accident Level Potential Accident Level Genre Employee or Third Party  \\\n",
      "count             425                      425   425                     425   \n",
      "unique              5                        6     2                       3   \n",
      "top                 I                       IV  Male             Third Party   \n",
      "freq              316                      143   403                     189   \n",
      "\n",
      "       Critical Risk                                        Description  \n",
      "count            425                                                425  \n",
      "unique            33                                                411  \n",
      "top           Others  On 02/03/17 during the soil sampling in the re...  \n",
      "freq             232                                                  3  \n"
     ]
    }
   ],
   "source": [
    "print(dataframe.describe(include='all'))"
   ]
  },
  {
   "cell_type": "markdown",
   "metadata": {},
   "source": [
    "Dans notre data set, nous avons trois (3) countries avec des valeurs: country_01 avec 251, country_02 avec 130 et country_03 avec  44.\n",
    "Nous constatons respectivement  dans le country_01, country_02 et country_03 il ya plus d'accident avec un pourcentage de 59.1%, 30.6% et 10.4%."
   ]
  },
  {
   "cell_type": "code",
   "execution_count": 45,
   "metadata": {},
   "outputs": [
    {
     "name": "stdout",
     "output_type": "stream",
     "text": [
      "Country_01    251\n",
      "Country_02    130\n",
      "Country_03     44\n",
      "Name: Countries, dtype: int64\n"
     ]
    },
    {
     "data": {
      "text/plain": [
       "array([<matplotlib.axes._subplots.AxesSubplot object at 0x0000026292D010D0>],\n",
       "      dtype=object)"
      ]
     },
     "execution_count": 45,
     "metadata": {},
     "output_type": "execute_result"
    },
    {
     "data": {
      "image/png": "[encoded data removed]",
      "text/plain": [
       "<Figure size 360x360 with 1 Axes>"
      ]
     },
     "metadata": {},
     "output_type": "display_data"
    }
   ],
   "source": [
    "countries = dataframe.Countries.value_counts()\n",
    "print(countries)\n",
    "countries.plot.pie(autopct=\"%.1f%%\", figsize=(5, 5), subplots=True)"
   ]
  },
  {
   "cell_type": "code",
   "execution_count": 46,
   "metadata": {},
   "outputs": [
    {
     "ename": "SyntaxError",
     "evalue": "invalid syntax (<ipython-input-46-6742b2c6fb6d>, line 1)",
     "output_type": "error",
     "traceback": [
      "\u001b[1;36m  File \u001b[1;32m\"<ipython-input-46-6742b2c6fb6d>\"\u001b[1;36m, line \u001b[1;32m1\u001b[0m\n\u001b[1;33m    Nous avons identifiés 11 local et en faisons le compte.\u001b[0m\n\u001b[1;37m         ^\u001b[0m\n\u001b[1;31mSyntaxError\u001b[0m\u001b[1;31m:\u001b[0m invalid syntax\n"
     ]
    }
   ],
   "source": [
    "Nous avons identifiés 11 local et en faisons le compte.\n"
   ]
  },
  {
   "cell_type": "code",
   "execution_count": 47,
   "metadata": {},
   "outputs": [
    {
     "name": "stdout",
     "output_type": "stream",
     "text": [
      "Local_03    90\n",
      "Local_05    59\n",
      "Local_01    57\n",
      "Local_04    56\n",
      "Local_06    46\n",
      "Local_10    44\n",
      "Local_08    27\n",
      "Local_02    24\n",
      "Local_07    14\n",
      "Local_12     4\n",
      "Local_09     2\n",
      "Local_11     2\n",
      "Name: Local, dtype: int64\n"
     ]
    },
    {
     "data": {
      "text/plain": [
       "array([<matplotlib.axes._subplots.AxesSubplot object at 0x0000026292EA17C0>],\n",
       "      dtype=object)"
      ]
     },
     "execution_count": 47,
     "metadata": {},
     "output_type": "execute_result"
    },
    {
     "data": {
      "image/png": "[encoded data removed]",
      "text/plain": [
       "<Figure size 360x360 with 1 Axes>"
      ]
     },
     "metadata": {},
     "output_type": "display_data"
    }
   ],
   "source": [
    "local = dataframe.Local.value_counts()\n",
    "print(local)\n",
    "local.plot.pie(figsize=(5, 5), subplots=True)"
   ]
  },
  {
   "cell_type": "markdown",
   "metadata": {},
   "source": [
    "Nous avons identifiés  le nombre d'industrie dans chaque secteur et meme temps nous avons compté pour chaque chaque secteur.\n",
    "Nous constatons respectivement que Mining avec 241 à plus d'accident, le Métals 134 a eu moyen plus que le premier et Others avec 50 moys plus d'accident."
   ]
  },
  {
   "cell_type": "code",
   "execution_count": 48,
   "metadata": {},
   "outputs": [
    {
     "name": "stdout",
     "output_type": "stream",
     "text": [
      "Mining    241\n",
      "Metals    134\n",
      "Others     50\n",
      "Name: Industry Sector, dtype: int64\n"
     ]
    },
    {
     "data": {
      "text/plain": [
       "array([<matplotlib.axes._subplots.AxesSubplot object at 0x0000026292F02A90>],\n",
       "      dtype=object)"
      ]
     },
     "execution_count": 48,
     "metadata": {},
     "output_type": "execute_result"
    },
    {
     "data": {
      "image/png": "[encoded data removed]",
      "text/plain": [
       "<Figure size 360x360 with 1 Axes>"
      ]
     },
     "metadata": {},
     "output_type": "display_data"
    }
   ],
   "source": [
    "IS = dataframe['Industry Sector'].value_counts()\n",
    "print(IS)\n",
    "IS.plot.pie(figsize=(5, 5), subplots=True)"
   ]
  },
  {
   "cell_type": "markdown",
   "metadata": {},
   "source": [
    "# Accident Level\n",
    "L'identification du nombre d'accident par level, nous constatons que le I il ya eu plus d'accident avec un nombre de 316,II=40,III= 31,IV=30 et V=8."
   ]
  },
  {
   "cell_type": "code",
   "execution_count": 49,
   "metadata": {},
   "outputs": [
    {
     "name": "stdout",
     "output_type": "stream",
     "text": [
      "I      316\n",
      "II      40\n",
      "III     31\n",
      "IV      30\n",
      "V        8\n",
      "Name: Accident Level, dtype: int64\n"
     ]
    },
    {
     "data": {
      "text/plain": [
       "array([<matplotlib.axes._subplots.AxesSubplot object at 0x0000026292F43B50>],\n",
       "      dtype=object)"
      ]
     },
     "execution_count": 49,
     "metadata": {},
     "output_type": "execute_result"
    },
    {
     "data": {
      "image/png": "[encoded data removed]",
      "text/plain": [
       "<Figure size 360x360 with 1 Axes>"
      ]
     },
     "metadata": {},
     "output_type": "display_data"
    }
   ],
   "source": [
    "AL = dataframe['Accident Level'].value_counts()\n",
    "print(AL)\n",
    "AL.plot.pie(figsize=(5, 5), subplots=True)"
   ]
  },
  {
   "cell_type": "markdown",
   "metadata": {},
   "source": [
    "# Nombre de Potential Accident Level:\n",
    "En terme de potential Accident Level nous constatons respectivement IV = 143, III= 106, II= 95, I=49, V=31 et VI=1."
   ]
  },
  {
   "cell_type": "code",
   "execution_count": 50,
   "metadata": {},
   "outputs": [
    {
     "name": "stdout",
     "output_type": "stream",
     "text": [
      "IV     143\n",
      "III    106\n",
      "II      95\n",
      "I       49\n",
      "V       31\n",
      "VI       1\n",
      "Name: Potential Accident Level, dtype: int64\n"
     ]
    },
    {
     "data": {
      "text/plain": [
       "array([<matplotlib.axes._subplots.AxesSubplot object at 0x0000026292F8C850>],\n",
       "      dtype=object)"
      ]
     },
     "execution_count": 50,
     "metadata": {},
     "output_type": "execute_result"
    },
    {
     "data": {
      "image/png": "[encoded data removed]",
      "text/plain": [
       "<Figure size 360x360 with 1 Axes>"
      ]
     },
     "metadata": {},
     "output_type": "display_data"
    }
   ],
   "source": [
    "PAL = dataframe['Potential Accident Level'].value_counts()\n",
    "print(PAL)\n",
    "PAL.plot.pie(figsize=(5, 5), subplots=True)"
   ]
  },
  {
   "cell_type": "markdown",
   "metadata": {},
   "source": [
    "# Nombre de Genre\n",
    "Nous remarquons qu'ils plus de male avec 403 et  de Female avec 22."
   ]
  },
  {
   "cell_type": "code",
   "execution_count": 51,
   "metadata": {},
   "outputs": [
    {
     "name": "stdout",
     "output_type": "stream",
     "text": [
      "Male      403\n",
      "Female     22\n",
      "Name: Genre, dtype: int64\n"
     ]
    },
    {
     "data": {
      "text/plain": [
       "array([<matplotlib.axes._subplots.AxesSubplot object at 0x000002629333A8E0>],\n",
       "      dtype=object)"
      ]
     },
     "execution_count": 51,
     "metadata": {},
     "output_type": "execute_result"
    },
    {
     "data": {
      "image/png": "[encoded data removed]",
      "text/plain": [
       "<Figure size 360x360 with 1 Axes>"
      ]
     },
     "metadata": {},
     "output_type": "display_data"
    }
   ],
   "source": [
    "Genre = dataframe['Genre'].value_counts()\n",
    "print(Genre)\n",
    "Genre.plot.pie(autopct=\"%.1f%%\", figsize=(5, 5), subplots=True)"
   ]
  },
  {
   "cell_type": "markdown",
   "metadata": {},
   "source": [
    "# Nombre de Employee or Third Party\n",
    "Il ya eut respectivement plus en treme de pourcentage  Third Party 44.5%, Employee 42.2% et  Third Party (Remote) 13.4%."
   ]
  },
  {
   "cell_type": "code",
   "execution_count": 52,
   "metadata": {},
   "outputs": [
    {
     "name": "stdout",
     "output_type": "stream",
     "text": [
      "Third Party             189\n",
      "Employee                179\n",
      "Third Party (Remote)     57\n",
      "Name: Employee or Third Party, dtype: int64\n"
     ]
    },
    {
     "data": {
      "text/plain": [
       "array([<matplotlib.axes._subplots.AxesSubplot object at 0x000002629337BA90>],\n",
       "      dtype=object)"
      ]
     },
     "execution_count": 52,
     "metadata": {},
     "output_type": "execute_result"
    },
    {
     "data": {
      "image/png": "[encoded data removed]",
      "text/plain": [
       "<Figure size 360x360 with 1 Axes>"
      ]
     },
     "metadata": {},
     "output_type": "display_data"
    }
   ],
   "source": [
    "\n",
    "etp = dataframe['Employee or Third Party'].value_counts()\n",
    "print(etp)\n",
    "etp.plot.pie(autopct=\"%.1f%%\", figsize=(5, 5), subplots=True)"
   ]
  },
  {
   "cell_type": "markdown",
   "metadata": {},
   "source": [
    "# Nombre de Critical Risk.\n",
    "Nous constatons qu'il ya plus de riesque avec Others, Pressed, Manual Tools ..."
   ]
  },
  {
   "cell_type": "code",
   "execution_count": 53,
   "metadata": {},
   "outputs": [
    {
     "name": "stdout",
     "output_type": "stream",
     "text": [
      "Others                                       232\n",
      "Pressed                                       24\n",
      "Manual Tools                                  20\n",
      "Chemical substances                           17\n",
      "Venomous Animals                              16\n",
      "Cut                                           14\n",
      "Projection                                    13\n",
      "Bees                                          10\n",
      "Fall                                           9\n",
      "Vehicles and Mobile Equipment                  8\n",
      "remains of choco                               7\n",
      "Pressurized Systems                            7\n",
      "Fall prevention (same level)                   7\n",
      "Fall prevention                                6\n",
      "Suspended Loads                                6\n",
      "Pressurized Systems / Chemical Substances      3\n",
      "Liquid Metal                                   3\n",
      "Power lock                                     3\n",
      "Blocking and isolation of energies             3\n",
      "Electrical Shock                               2\n",
      "Projection of fragments                        2\n",
      "Machine Protection                             2\n",
      "Burn                                           1\n",
      "Individual protection equipment                1\n",
      "Poll                                           1\n",
      "Traffic                                        1\n",
      "Confined space                                 1\n",
      "Electrical installation                        1\n",
      "\\nNot applicable                               1\n",
      "Projection/Burning                             1\n",
      "Projection/Choco                               1\n",
      "Plates                                         1\n",
      "Projection/Manual Tools                        1\n",
      "Name: Critical Risk, dtype: int64\n"
     ]
    },
    {
     "data": {
      "text/plain": [
       "array([<matplotlib.axes._subplots.AxesSubplot object at 0x0000026292F02490>],\n",
       "      dtype=object)"
      ]
     },
     "execution_count": 53,
     "metadata": {},
     "output_type": "execute_result"
    },
    {
     "data": {
      "image/png": "[encoded data removed]",
      "text/plain": [
       "<Figure size 360x360 with 1 Axes>"
      ]
     },
     "metadata": {},
     "output_type": "display_data"
    }
   ],
   "source": [
    "\n",
    "CR = dataframe['Critical Risk'].value_counts()\n",
    "print(CR)\n",
    "CR.plot.pie(figsize=(5, 5), subplots=True)"
   ]
  },
  {
   "cell_type": "markdown",
   "metadata": {},
   "source": [
    "# Repartition des locals par countries\n",
    "Nous identifier la localité pour chaque country."
   ]
  },
  {
   "cell_type": "code",
   "execution_count": 54,
   "metadata": {},
   "outputs": [
    {
     "data": {
      "text/html": [
       "<div>\n",
       "<style scoped>\n",
       "    .dataframe tbody tr th:only-of-type {\n",
       "        vertical-align: middle;\n",
       "    }\n",
       "\n",
       "    .dataframe tbody tr th {\n",
       "        vertical-align: top;\n",
       "    }\n",
       "\n",
       "    .dataframe thead th {\n",
       "        text-align: right;\n",
       "    }\n",
       "</style>\n",
       "<table border=\"1\" class=\"dataframe\">\n",
       "  <thead>\n",
       "    <tr style=\"text-align: right;\">\n",
       "      <th></th>\n",
       "      <th></th>\n",
       "    </tr>\n",
       "    <tr>\n",
       "      <th>Countries</th>\n",
       "      <th>Local</th>\n",
       "    </tr>\n",
       "  </thead>\n",
       "  <tbody>\n",
       "    <tr>\n",
       "      <th rowspan=\"5\" valign=\"top\">Country_01</th>\n",
       "      <th>Local_01</th>\n",
       "    </tr>\n",
       "    <tr>\n",
       "      <th>Local_03</th>\n",
       "    </tr>\n",
       "    <tr>\n",
       "      <th>Local_04</th>\n",
       "    </tr>\n",
       "    <tr>\n",
       "      <th>Local_06</th>\n",
       "    </tr>\n",
       "    <tr>\n",
       "      <th>Local_11</th>\n",
       "    </tr>\n",
       "    <tr>\n",
       "      <th rowspan=\"6\" valign=\"top\">Country_02</th>\n",
       "      <th>Local_02</th>\n",
       "    </tr>\n",
       "    <tr>\n",
       "      <th>Local_05</th>\n",
       "    </tr>\n",
       "    <tr>\n",
       "      <th>Local_07</th>\n",
       "    </tr>\n",
       "    <tr>\n",
       "      <th>Local_08</th>\n",
       "    </tr>\n",
       "    <tr>\n",
       "      <th>Local_09</th>\n",
       "    </tr>\n",
       "    <tr>\n",
       "      <th>Local_12</th>\n",
       "    </tr>\n",
       "    <tr>\n",
       "      <th>Country_03</th>\n",
       "      <th>Local_10</th>\n",
       "    </tr>\n",
       "  </tbody>\n",
       "</table>\n",
       "</div>"
      ],
      "text/plain": [
       "Empty DataFrame\n",
       "Columns: []\n",
       "Index: [(Country_01, Local_01), (Country_01, Local_03), (Country_01, Local_04), (Country_01, Local_06), (Country_01, Local_11), (Country_02, Local_02), (Country_02, Local_05), (Country_02, Local_07), (Country_02, Local_08), (Country_02, Local_09), (Country_02, Local_12), (Country_03, Local_10)]"
      ]
     },
     "execution_count": 54,
     "metadata": {},
     "output_type": "execute_result"
    }
   ],
   "source": [
    "\n",
    "dataframe[['Countries','Local']].groupby(['Countries','Local']).count()"
   ]
  },
  {
   "cell_type": "code",
   "execution_count": 55,
   "metadata": {},
   "outputs": [
    {
     "data": {
      "text/html": [
       "<div>\n",
       "<style scoped>\n",
       "    .dataframe tbody tr th:only-of-type {\n",
       "        vertical-align: middle;\n",
       "    }\n",
       "\n",
       "    .dataframe tbody tr th {\n",
       "        vertical-align: top;\n",
       "    }\n",
       "\n",
       "    .dataframe thead th {\n",
       "        text-align: right;\n",
       "    }\n",
       "</style>\n",
       "<table border=\"1\" class=\"dataframe\">\n",
       "  <thead>\n",
       "    <tr style=\"text-align: right;\">\n",
       "      <th></th>\n",
       "      <th></th>\n",
       "      <th></th>\n",
       "    </tr>\n",
       "    <tr>\n",
       "      <th>Countries</th>\n",
       "      <th>Local</th>\n",
       "      <th>Industry Sector</th>\n",
       "    </tr>\n",
       "  </thead>\n",
       "  <tbody>\n",
       "    <tr>\n",
       "      <th rowspan=\"5\" valign=\"top\">Country_01</th>\n",
       "      <th>Local_01</th>\n",
       "      <th>Mining</th>\n",
       "    </tr>\n",
       "    <tr>\n",
       "      <th>Local_03</th>\n",
       "      <th>Mining</th>\n",
       "    </tr>\n",
       "    <tr>\n",
       "      <th>Local_04</th>\n",
       "      <th>Mining</th>\n",
       "    </tr>\n",
       "    <tr>\n",
       "      <th>Local_06</th>\n",
       "      <th>Metals</th>\n",
       "    </tr>\n",
       "    <tr>\n",
       "      <th>Local_11</th>\n",
       "      <th>Others</th>\n",
       "    </tr>\n",
       "    <tr>\n",
       "      <th rowspan=\"6\" valign=\"top\">Country_02</th>\n",
       "      <th>Local_02</th>\n",
       "      <th>Mining</th>\n",
       "    </tr>\n",
       "    <tr>\n",
       "      <th>Local_05</th>\n",
       "      <th>Metals</th>\n",
       "    </tr>\n",
       "    <tr>\n",
       "      <th>Local_07</th>\n",
       "      <th>Mining</th>\n",
       "    </tr>\n",
       "    <tr>\n",
       "      <th>Local_08</th>\n",
       "      <th>Metals</th>\n",
       "    </tr>\n",
       "    <tr>\n",
       "      <th>Local_09</th>\n",
       "      <th>Metals</th>\n",
       "    </tr>\n",
       "    <tr>\n",
       "      <th>Local_12</th>\n",
       "      <th>Others</th>\n",
       "    </tr>\n",
       "    <tr>\n",
       "      <th>Country_03</th>\n",
       "      <th>Local_10</th>\n",
       "      <th>Others</th>\n",
       "    </tr>\n",
       "  </tbody>\n",
       "</table>\n",
       "</div>"
      ],
      "text/plain": [
       "Empty DataFrame\n",
       "Columns: []\n",
       "Index: [(Country_01, Local_01, Mining), (Country_01, Local_03, Mining), (Country_01, Local_04, Mining), (Country_01, Local_06, Metals), (Country_01, Local_11, Others), (Country_02, Local_02, Mining), (Country_02, Local_05, Metals), (Country_02, Local_07, Mining), (Country_02, Local_08, Metals), (Country_02, Local_09, Metals), (Country_02, Local_12, Others), (Country_03, Local_10, Others)]"
      ]
     },
     "execution_count": 55,
     "metadata": {},
     "output_type": "execute_result"
    }
   ],
   "source": [
    "\n",
    "dataframe[['Countries','Local','Industry Sector']].groupby(['Countries','Local','Industry Sector']).count()"
   ]
  },
  {
   "cell_type": "markdown",
   "metadata": {},
   "source": [
    "# Repartition des Industry Sector par local"
   ]
  },
  {
   "cell_type": "code",
   "execution_count": 56,
   "metadata": {},
   "outputs": [
    {
     "data": {
      "text/plain": [
       "<matplotlib.axes._subplots.AxesSubplot at 0x2629344ee20>"
      ]
     },
     "execution_count": 56,
     "metadata": {},
     "output_type": "execute_result"
    },
    {
     "data": {
      "image/png": "[encoded data removed]",
      "text/plain": [
       "<Figure size 1080x360 with 1 Axes>"
      ]
     },
     "metadata": {
      "needs_background": "light"
     },
     "output_type": "display_data"
    }
   ],
   "source": [
    "plt.figure(figsize=(15,5))\n",
    "sns.countplot(x=\"Countries\", hue=\"Accident Level\", data=dataframe)"
   ]
  },
  {
   "cell_type": "markdown",
   "metadata": {},
   "source": [
    "# Nombre de type d'accident par countries par genre"
   ]
  },
  {
   "cell_type": "code",
   "execution_count": 57,
   "metadata": {},
   "outputs": [
    {
     "data": {
      "image/png": "[encoded data removed]",
      "text/plain": [
       "<Figure size 1080.12x288 with 5 Axes>"
      ]
     },
     "metadata": {
      "needs_background": "light"
     },
     "output_type": "display_data"
    }
   ],
   "source": [
    "sns.catplot(x=\"Countries\", hue=\"Genre\", col=\"Accident Level\",\n",
    "                data=dataframe, kind=\"count\",\n",
    "                height=4, aspect=.7);"
   ]
  },
  {
   "cell_type": "markdown",
   "metadata": {},
   "source": [
    "# Nombre de type d'accident par countries"
   ]
  },
  {
   "cell_type": "code",
   "execution_count": 58,
   "metadata": {},
   "outputs": [
    {
     "data": {
      "text/plain": [
       "<matplotlib.axes._subplots.AxesSubplot at 0x26295769a90>"
      ]
     },
     "execution_count": 58,
     "metadata": {},
     "output_type": "execute_result"
    },
    {
     "data": {
      "image/png": "[encoded data removed]",
      "text/plain": [
       "<Figure size 1080x360 with 1 Axes>"
      ]
     },
     "metadata": {
      "needs_background": "light"
     },
     "output_type": "display_data"
    }
   ],
   "source": [
    "plt.figure(figsize=(15,5))\n",
    "sns.countplot(x=\"Local\", hue=\"Accident Level\", data=dataframe)"
   ]
  },
  {
   "cell_type": "markdown",
   "metadata": {},
   "source": [
    "# Nombre de type d'accident par Industry Sector"
   ]
  },
  {
   "cell_type": "code",
   "execution_count": 59,
   "metadata": {},
   "outputs": [
    {
     "data": {
      "text/plain": [
       "<matplotlib.axes._subplots.AxesSubplot at 0x2629532a460>"
      ]
     },
     "execution_count": 59,
     "metadata": {},
     "output_type": "execute_result"
    },
    {
     "data": {
      "image/png": "[encoded data removed]",
      "text/plain": [
       "<Figure size 1080x360 with 1 Axes>"
      ]
     },
     "metadata": {
      "needs_background": "light"
     },
     "output_type": "display_data"
    }
   ],
   "source": [
    "\n",
    "\n",
    "plt.figure(figsize=(15,5))\n",
    "sns.countplot(x=\"Industry Sector\", hue=\"Accident Level\", data=dataframe)"
   ]
  },
  {
   "cell_type": "markdown",
   "metadata": {},
   "source": [
    "# Nombre de type d'accident par Industry Sector par genre"
   ]
  },
  {
   "cell_type": "code",
   "execution_count": 60,
   "metadata": {},
   "outputs": [
    {
     "data": {
      "image/png": "[encoded data removed]",
      "text/plain": [
       "<Figure size 1080.12x288 with 5 Axes>"
      ]
     },
     "metadata": {
      "needs_background": "light"
     },
     "output_type": "display_data"
    }
   ],
   "source": [
    "\n",
    "\n",
    "sns.catplot(x=\"Industry Sector\", hue=\"Genre\", col=\"Accident Level\",\n",
    "                data=dataframe, kind=\"count\",\n",
    "                height=4, aspect=.7);"
   ]
  },
  {
   "cell_type": "markdown",
   "metadata": {},
   "source": [
    "# Repartition de Accident Level par Employee or Third Party"
   ]
  },
  {
   "cell_type": "code",
   "execution_count": 61,
   "metadata": {},
   "outputs": [
    {
     "data": {
      "text/plain": [
       "<matplotlib.axes._subplots.AxesSubplot at 0x26295df2a60>"
      ]
     },
     "execution_count": 61,
     "metadata": {},
     "output_type": "execute_result"
    },
    {
     "data": {
      "image/png": "[encoded data removed]",
      "text/plain": [
       "<Figure size 1080x360 with 1 Axes>"
      ]
     },
     "metadata": {
      "needs_background": "light"
     },
     "output_type": "display_data"
    }
   ],
   "source": [
    "\n",
    "\n",
    "plt.figure(figsize=(15,5))\n",
    "sns.countplot(x=\"Accident Level\", hue=\"Employee or Third Party\", data=dataframe)"
   ]
  },
  {
   "cell_type": "markdown",
   "metadata": {},
   "source": [
    "# Repartition de Accident Level par Employee or Third Party"
   ]
  },
  {
   "cell_type": "code",
   "execution_count": null,
   "metadata": {},
   "outputs": [],
   "source": []
  }
 ],
 "metadata": {
  "kernelspec": {
   "display_name": "Python 3",
   "language": "python",
   "name": "python3"
  },
  "language_info": {
   "codemirror_mode": {
    "name": "ipython",
    "version": 3
   },
   "file_extension": ".py",
   "mimetype": "text/x-python",
   "name": "python",
   "nbconvert_exporter": "python",
   "pygments_lexer": "ipython3",
   "version": "3.8.3"
  }
 },
 "nbformat": 4,
 "nbformat_minor": 4
}
